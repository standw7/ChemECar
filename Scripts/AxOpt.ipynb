{
 "cells": [
  {
   "cell_type": "markdown",
   "metadata": {},
   "source": [
    "# Bayesian Optimization with Ax"
   ]
  },
  {
   "cell_type": "markdown",
   "metadata": {},
   "source": [
    "### Setup\n",
    "\n",
    "#### Import Libraries\n",
    "\n",
    "This script uses the Ax Bayesian Optimization model to try to find the best parameters for optimizing a battery for the University of Utah Chemical Engineering Car Club. There is a 2D example of this script in the AxDemonstration notebook. "
   ]
  },
  {
   "cell_type": "code",
   "execution_count": 1,
   "metadata": {},
   "outputs": [],
   "source": [
    "from ax.service.ax_client import AxClient\n",
    "import pandas as pd\n",
    "from ax.service.utils.instantiation import ObjectiveProperties\n",
    "from IPython.display import clear_output\n",
    "from time import sleep"
   ]
  },
  {
   "cell_type": "markdown",
   "metadata": {},
   "source": [
    "### Train the Model \n",
    "\n",
    "Using the collected data, train the Ax model and use it to suggest a new set of parameters to test. \n",
    "\n",
    "The output of this code will be a set of the parameters that you need to test next.\n",
    "\n",
    "Run the code below to get a list of parameters to try. "
   ]
  },
  {
   "cell_type": "code",
   "execution_count": 2,
   "metadata": {},
   "outputs": [
    {
     "name": "stdout",
     "output_type": "stream",
     "text": [
      "Next set of parameters to try:\n",
      "Size of the Cell: 1.800 cm diameter\n",
      "Manganese Dioxide: 11.45 g (76.3%)\n",
      "Graphite: 3.55 g (23.7%)\n",
      "Ratio of Manganese Dioxide to Graphite: 3.22:1\n",
      "Layers of Filter Paper: 2 layers\n",
      "Water: 20.257 ml (1.35% Saturation)\n",
      "Dry Ammonium Chloride required: 3.25 g\n"
     ]
    }
   ],
   "source": [
    "# Read the CSV file\n",
    "df = pd.read_csv('../Datasets/ObservedData.csv')\n",
    "\n",
    "ax_client = AxClient(verbose_logging=False)\n",
    "\n",
    "# Define the parameters based on your CSV columns\n",
    "parameters = [\n",
    "    {\"name\": \"SizeOfCell\", \"type\": \"choice\", \"values\": [1.53, 1.8, 2.0]},\n",
    "    {\"name\": \"ManganeseGraphiteRatio\", \"type\": \"range\", \"bounds\": [2.0, 3.5]},\n",
    "    {\"name\": \"LayersOfPaper\", \"type\": \"choice\", \"values\": [1, 2]},\n",
    "    {\"name\": \"Chloride\", \"type\": \"range\", \"bounds\": [0.9, 1.5]}\n",
    "]\n",
    "\n",
    "# Create the experiment\n",
    "ax_client.create_experiment(\n",
    "    name=\"battery_optimization\",\n",
    "    parameters=parameters,\n",
    "    objectives={\"y\": ObjectiveProperties(minimize=False)}\n",
    ")\n",
    "\n",
    "# Attach existing trials from the CSV\n",
    "for i, row in df.iterrows():\n",
    "    parameters = {\"SizeOfCell\": row[\"Size of the Cell\"], \"ManganeseGraphiteRatio\": row[\"Manganese to Graphite Ratio\"], \"LayersOfPaper\": int(row[\"Layers of Filter Paper\"]), \"Chloride\": row[\"3M Ammonium Chloride Saturation (mL)\"]}\n",
    "    objective_value = row['Power (W)']\n",
    "    ax_client.attach_trial(parameters)\n",
    "    ax_client.complete_trial(trial_index=i, raw_data={\"y\": objective_value})\n",
    "\n",
    "# Get next set of parameters to try\n",
    "parameters, trial_index = ax_client.get_next_trial()\n",
    "\n",
    "\n",
    "# Assume the total weight is 15 grams\n",
    "total_weight = 15.0  # in grams\n",
    "\n",
    "# weight percent of manganese dioxide\n",
    "manganese_weight_percent = (parameters[\"ManganeseGraphiteRatio\"])/(parameters[\"ManganeseGraphiteRatio\"] + 1)\n",
    "graphite_weight_percent = 1 - manganese_weight_percent\n",
    "manganese_weight = total_weight * manganese_weight_percent\n",
    "graphite_weight = total_weight * graphite_weight_percent\n",
    "\n",
    "# Constants\n",
    "molarity = 3.0  # Molarity in moles per liter\n",
    "molar_mass_ammonium_chloride = 53.49  # Molar mass of NH4Cl in g/mol\n",
    "\n",
    "# Given volume of the solution in milliliters, convert to liters\n",
    "volume_liters = parameters[\"Chloride\"] / 1000  # Convert mL to L\n",
    "\n",
    "# Calculate moles of ammonium chloride needed\n",
    "moles_ammonium_chloride = molarity * volume_liters\n",
    "\n",
    "# Convert moles to grams\n",
    "grams_ammonium_chloride = (total_weight/1000) * 3 * molar_mass_ammonium_chloride\n",
    "\n",
    "clear_output()\n",
    "sleep(0.2)\n",
    "\n",
    "# Print the next set of parameters to try, including weights in grams\n",
    "print(\"Next set of parameters to try:\")\n",
    "print(f\"Size of the Cell: {parameters['SizeOfCell']:.3f} cm diameter\")\n",
    "print(f\"Manganese Dioxide: {manganese_weight:.2f} g ({manganese_weight_percent*100:.1f}%)\")\n",
    "print(f\"Graphite: {graphite_weight:.2f} g ({graphite_weight_percent*100:.1f}%)\")\n",
    "print(f\"Ratio of Manganese Dioxide to Graphite: {parameters['ManganeseGraphiteRatio']:.2f}:1\")\n",
    "print(f\"Layers of Filter Paper: {parameters['LayersOfPaper']} layers\")\n",
    "print(f\"Water: {parameters['Chloride']*15:.3f} ml ({parameters['Chloride']:.2f}% Saturation)\")\n",
    "print(f\"Dry Ammonium Chloride required: {(parameters['Chloride']*grams_ammonium_chloride):.2f} g\")"
   ]
  },
  {
   "cell_type": "markdown",
   "metadata": {},
   "source": [
    "### Log the Data\n",
    "\n",
    "Run the code below to get the input prompt to log the data. This number is the average voltage recorded from the battery using the suggested parameters. "
   ]
  },
  {
   "cell_type": "code",
   "execution_count": 10,
   "metadata": {},
   "outputs": [],
   "source": [
    "# Here you would typically run your experiment with these parameters\n",
    "# and get a result. For this example, let's just use a dummy result\n",
    "result = float(input(\"Input the tested variable\"))  # Replace this with your actual experimental result\n",
    "\n",
    "# Complete the trial with the result\n",
    "ax_client.complete_trial(trial_index=trial_index, raw_data={\"y\": result})"
   ]
  },
  {
   "cell_type": "markdown",
   "metadata": {},
   "source": [
    "### Save the Data\n",
    "\n",
    "Run the cell below to save the new parameters and observed value to the csv file. This will allow the model to incorperate the new data into its future fittings."
   ]
  },
  {
   "cell_type": "code",
   "execution_count": 11,
   "metadata": {},
   "outputs": [
    {
     "name": "stderr",
     "output_type": "stream",
     "text": [
      "C:\\Users\\Razzy\\AppData\\Local\\Temp\\ipykernel_10992\\1199880304.py:14: FutureWarning: The behavior of DataFrame concatenation with empty or all-NA entries is deprecated. In a future version, this will no longer exclude empty or all-NA columns when determining the result dtypes. To retain the old behavior, exclude the relevant entries before the concat operation.\n",
      "  df = pd.concat([df, new_row], ignore_index=True)\n"
     ]
    }
   ],
   "source": [
    "\n",
    "# round parameters to 3 decimal places\n",
    "parameters = {key: round(value, 3) for key, value in parameters.items()}\n",
    "\n",
    "# Prepare the new row as a DataFrame\n",
    "new_row = pd.DataFrame([{\n",
    "    \"Size of the Cell\": parameters['SizeOfCell'],\n",
    "    \"Manganese to Graphite Ratio\": parameters['ManganeseGraphiteRatio'],\n",
    "    \"Layers of Filter Paper\": parameters['LayersOfPaper'],\n",
    "    \"3M Ammonium Chloride Saturation (mL)\": parameters['Chloride'],\n",
    "    \"Power (W)\": result\n",
    "}])\n",
    "\n",
    "# Concatenate the new row to the existing DataFrame\n",
    "df = pd.concat([df, new_row], ignore_index=True)\n",
    "\n",
    "# Save the updated dataframe to a CSV file\n",
    "df.to_csv('../Datasets/ObservedData.csv', index=False)"
   ]
  },
  {
   "cell_type": "markdown",
   "metadata": {},
   "source": [
    "### Print the top parameters found so far"
   ]
  },
  {
   "cell_type": "code",
   "execution_count": 12,
   "metadata": {},
   "outputs": [
    {
     "name": "stdout",
     "output_type": "stream",
     "text": [
      "\n",
      "Best parameters:\n",
      "SizeOfCell: 2.000\n",
      "ManganeseGraphiteRatio: 2.924\n",
      "LayersOfPaper: 2\n",
      "Chloride: 1.286\n",
      "\n",
      "Best target value:\n",
      "24.195\n"
     ]
    }
   ],
   "source": [
    "# Get the best parameters\n",
    "best_parameters, metrics = ax_client.get_best_parameters()\n",
    "\n",
    "# Print the best parameters to 3 decimal places\n",
    "print(\"\\nBest parameters:\")\n",
    "for key, value in best_parameters.items():\n",
    "    if isinstance(value, float):\n",
    "        print(f\"{key}: {value:.3f}\")\n",
    "    else:\n",
    "        print(f\"{key}: {value}\")\n",
    "\n",
    "print(\"\\nBest target value:\")\n",
    "print(metrics[0]['y'])"
   ]
  }
 ],
 "metadata": {
  "kernelspec": {
   "display_name": "chemcar",
   "language": "python",
   "name": "python3"
  },
  "language_info": {
   "codemirror_mode": {
    "name": "ipython",
    "version": 3
   },
   "file_extension": ".py",
   "mimetype": "text/x-python",
   "name": "python",
   "nbconvert_exporter": "python",
   "pygments_lexer": "ipython3",
   "version": "3.11.9"
  }
 },
 "nbformat": 4,
 "nbformat_minor": 2
}
